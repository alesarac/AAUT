{
  "nbformat": 4,
  "nbformat_minor": 0,
  "metadata": {
    "anaconda-cloud": {},
    "kernelspec": {
      "display_name": "Python [conda env:aaaid]",
      "language": "python",
      "name": "conda-env-aaaid-py"
    },
    "language_info": {
      "codemirror_mode": {
        "name": "ipython",
        "version": 2
      },
      "file_extension": ".py",
      "mimetype": "text/x-python",
      "name": "python",
      "nbconvert_exporter": "python",
      "pygments_lexer": "ipython2",
      "version": "2.7.12"
    },
    "colab": {
      "name": "classification_iris_knn_aa_21_22.ipynb",
      "provenance": [],
      "collapsed_sections": [],
      "toc_visible": true
    }
  },
  "cells": [
    {
      "cell_type": "markdown",
      "metadata": {
        "id": "VbORlHDOEYTE"
      },
      "source": [
        "##Classifiers comparison: decision trees and k-nearest neighbors on the dataset Iris\n",
        "\n",
        "\n",
        "In the following program we compare the prediction results obtained by decision trees and k-nearest neighbors on the dataset Iris"
      ]
    },
    {
      "cell_type": "markdown",
      "metadata": {
        "collapsed": true,
        "id": "iFRSTXNDEYTG"
      },
      "source": [
        "The following cell shows the program training a decision tree and its results in preciction "
      ]
    },
    {
      "cell_type": "code",
      "metadata": {
        "id": "X7fYOeG3EYTH",
        "colab": {
          "base_uri": "https://localhost:8080/"
        },
        "outputId": "0222d7e0-10bf-46fa-9076-2896b5638ac9"
      },
      "source": [
        "from sklearn import tree \n",
        "from sklearn.datasets import load_iris\n",
        "from sklearn.model_selection import cross_val_score # will be used to separate training and test\n",
        "iris = load_iris()\n",
        "clf = tree.DecisionTreeClassifier(criterion=\"entropy\",random_state=300,min_samples_leaf=5,class_weight={0:1,1:1,2:1})\n",
        "clf = clf.fit(iris.data, iris.target)\n",
        "scores = cross_val_score(clf, iris.data, iris.target, cv=5) # score will be the accuracy\n",
        "print(scores)\n"
      ],
      "execution_count": 1,
      "outputs": [
        {
          "output_type": "stream",
          "name": "stdout",
          "text": [
            "[0.96666667 1.         0.86666667 0.86666667 1.        ]\n"
          ]
        }
      ]
    },
    {
      "cell_type": "markdown",
      "metadata": {
        "id": "O6Stp1gpEYTP"
      },
      "source": [
        "The following cell shows the training of k-nearest neighbors and its prediction results.\n",
        "Here we use a uniform weighting setting (weights='uniform'): any neighbors weights the same in the majority voting aggregation."
      ]
    },
    {
      "cell_type": "code",
      "metadata": {
        "id": "OZAavM5qEYTQ",
        "colab": {
          "base_uri": "https://localhost:8080/"
        },
        "outputId": "22a89a42-b0bc-4601-cb28-4a60bd822212"
      },
      "source": [
        "from sklearn import neighbors\n",
        "import numpy as np\n",
        "n_neighbors = 11\n",
        "\n",
        "clf_knn = neighbors.KNeighborsClassifier(n_neighbors, weights='uniform') #con \"uniform\" tutti i punti vicini della stessa classe danno lo stesso score di distannza, hanno la stessa importanza indipendentemente dalla distanza\n",
        "clf_knn = clf_knn.fit(iris.data, iris.target)\n",
        "scores = cross_val_score(clf_knn, iris.data, iris.target, cv=5) # score will be the accuracy\n",
        "print(\"Scores: \" + str(scores))\n",
        "print(\"Media degli scores: \" + str(np.mean(scores)) + \"\\n\\n\")\n",
        "# shows the model predictions  \n",
        "for i in range(len(iris.target)):\n",
        "    #print(iris.data[i,:])\n",
        "    #print(iris.data[i,:].reshape(1,-1))\n",
        "    instance=iris.data[i,:].reshape(1,-1)\n",
        "    #print(clf_knn.predict(instance))\n",
        "    predicted=clf_knn.predict(instance)[0]\n",
        "    #print(predicted)\n",
        "    #if iris.target[i]==predicted:\n",
        "        #print(str(i)+\" ok \"+str(iris.target_names[iris.target[i]]))\n",
        "    if not iris.target[i] == predicted:\n",
        "        print(str(i)+\" nok \"+\"true class: \"+str(iris.target_names[iris.target[i]])+\"; predicted: \"+str(iris.target_names[predicted]))"
      ],
      "execution_count": 73,
      "outputs": [
        {
          "output_type": "stream",
          "name": "stdout",
          "text": [
            "Scores: [0.93333333 1.         1.         0.96666667 1.        ]\n",
            "Media degli scores: 0.9800000000000001\n",
            "\n",
            "\n",
            "77 nok true class: versicolor; predicted: virginica\n",
            "83 nok true class: versicolor; predicted: virginica\n",
            "106 nok true class: virginica; predicted: versicolor\n",
            "138 nok true class: virginica; predicted: versicolor\n"
          ]
        }
      ]
    },
    {
      "cell_type": "markdown",
      "metadata": {
        "id": "YVI8abkeEYTV"
      },
      "source": [
        "In the following cell we use a varying weighting setting (weights='distance'): any neighbors weights inversely with its distance to the test instance in the majority voting aggregation."
      ]
    },
    {
      "cell_type": "code",
      "metadata": {
        "scrolled": true,
        "id": "dxC1EypXEYTV",
        "colab": {
          "base_uri": "https://localhost:8080/"
        },
        "outputId": "2309c6a2-57af-48c3-8c53-1c7ca7c8d78c"
      },
      "source": [
        "n_neighbors = 11\n",
        "clf_knn2 = neighbors.KNeighborsClassifier(n_neighbors, weights='distance') #distance assegnerà l'esempio al cluster più vicino\n",
        "clf_knn2.fit(iris.data, iris.target)\n",
        "\n",
        "for i in range(len(iris.target)):\n",
        "    instance=(iris.data[i,:]).reshape(1, -1)\n",
        "    predicted2=clf_knn2.predict(instance)[0]\n",
        "    #if iris.target[i]==predicted2:\n",
        "        #print(str(i)+\" ok \"+str(iris.target_names[iris.target[i]]))\n",
        "    if not (iris.target[i]==predicted2):\n",
        "        print(str(i)+\" nok \"+\"true class: \"+str(iris.target_names[iris.target[i]])+\"; predicted: \"+str(iris.target_names[predicted]))\n",
        "print(\"Classification score of k-nn with distance weighting\"+\"\\n\")\n",
        "scores2 = cross_val_score(clf_knn2, iris.data, iris.target, cv=5,scoring='accuracy') # score will be the accuracy\n",
        "print(\"Scores: \" + str(scores2))\n",
        "print(\"Media degli scores: \" + str(np.mean(scores2)))"
      ],
      "execution_count": 70,
      "outputs": [
        {
          "output_type": "stream",
          "name": "stdout",
          "text": [
            "Classification score of k-nn with distance weighting\n",
            "\n",
            "Scores: [0.96666667 1.         1.         0.96666667 1.        ]\n",
            "Media degli scores: 0.9866666666666667\n"
          ]
        }
      ]
    },
    {
      "cell_type": "markdown",
      "metadata": {
        "id": "_Wpx4NW0EYTa"
      },
      "source": [
        "The following cell shows the tuning of the k-nn models with a varying value of k (number of nearest neighbors) and finds the best value of k (giving the maximum accuracy)."
      ]
    },
    {
      "cell_type": "code",
      "metadata": {
        "scrolled": false,
        "id": "-jhdpzK2EYTa"
      },
      "source": [
        "import numpy as np\n",
        "from numpy import zeros\n",
        "from sklearn import neighbors\n",
        "from sklearn.datasets import load_iris\n",
        "iris = load_iris()\n",
        "from sklearn.model_selection import train_test_split\n",
        "\n",
        "X_train, X_test, y_train, y_test = train_test_split(iris.data, iris.target, test_size=0.4, random_state=0)\n",
        "\n",
        "best_accuracy=0\n",
        "best_k=1\n",
        "A=np.zeros(len(y_train), dtype=np.float) # for storing accuracies\n",
        "for n_neighbors in np.arange(1,len(y_train)+1):\n",
        "    clf_knn3 = neighbors.KNeighborsClassifier(n_neighbors, weights='distance')\n",
        "    # (n_neighbors=5, weights='uniform', algorithm='auto', leaf_size=30, p=2, metric='minkowski', metric_params=None, n_jobs=1, **kwargs)\n",
        "    clf_knn3.fit(X_train, y_train)\n",
        "    index=n_neighbors-1\n",
        "    A[index]=clf_knn3.score(X_test, y_test)\n",
        "    if best_accuracy<clf_knn3.score(X_test, y_test):\n",
        "        best_accuracy=clf_knn3.score(X_test, y_test)\n",
        "        best_k=n_neighbors\n",
        "    print(\"k neighbors=\"+str(n_neighbors))\n",
        "    print(\"accuracy=\"+str(clf_knn3.score(X_test, y_test)))\n",
        "    \n",
        "print(\"\\n\")\n",
        "print(\"best k=\"+str(best_k))\n",
        "print(\"best accuracy=\"+str(best_accuracy))\n",
        "\n",
        "import matplotlib.pyplot as plt\n",
        "import matplotlib.ticker as ticker\n",
        "\n",
        "#plt.xticks(np.arange(1, len(y_train)+1, 8))\n",
        "plt.yticks(np.arange(0.0,1.0,0.01))\n",
        "\n",
        "plt.plot(np.arange(1,len(y_train)+1),A)\n",
        "\n",
        "plt.show()"
      ],
      "execution_count": null,
      "outputs": []
    },
    {
      "cell_type": "markdown",
      "metadata": {
        "collapsed": true,
        "id": "p23LUav0EYTe"
      },
      "source": [
        "In the following cell we plot in the same plot two subplots with the diagrams on accuracy with the two kinds of weighting \n",
        "of the vote of the neighbours (uniform and with distance)"
      ]
    },
    {
      "cell_type": "code",
      "metadata": {
        "id": "Ewb11oFOEYTf",
        "colab": {
          "base_uri": "https://localhost:8080/",
          "height": 1000
        },
        "outputId": "ca490f83-7460-4984-a936-43e130843f42"
      },
      "source": [
        "import numpy as np\n",
        "from numpy import zeros\n",
        "from sklearn import neighbors\n",
        "from sklearn.datasets import load_iris\n",
        "iris = load_iris()\n",
        "from sklearn.model_selection import train_test_split\n",
        "\n",
        "import matplotlib.pyplot as plt\n",
        "\n",
        "X_train, X_test, y_train, y_test = train_test_split(iris.data, iris.target, test_size=0.4, random_state=0)\n",
        "\n",
        "i=0  #parameter in the control of the subplot to draw on'\n",
        "f,(ax1, ax2) = plt.subplots(1, 2, sharey=True)\n",
        "for weight_type in ['uniform','distance']:\n",
        "    print(\"weighting:\"+str(weight_type))\n",
        "    A=np.zeros(len(y_train), dtype=np.float) # for storing accuracies\n",
        "    best_accuracy=0\n",
        "    best_k=1\n",
        "    for n_neighbors in np.arange(1,len(y_train)+1):\n",
        "        clf_knn2 = neighbors.KNeighborsClassifier(n_neighbors, weights=weight_type)\n",
        "        # (n_neighbors=5, weights='uniform', algorithm='auto', leaf_size=30, p=2, metric='minkowski', metric_params=None, n_jobs=1, **kwargs)\n",
        "        clf_knn2.fit(X_train, y_train)\n",
        "        index=n_neighbors-1\n",
        "        A[index]=clf_knn2.score(X_test, y_test)\n",
        "        if best_accuracy<clf_knn2.score(X_test, y_test):\n",
        "            best_accuracy=clf_knn2.score(X_test, y_test)\n",
        "            best_k=n_neighbors\n",
        "        print(\"k neighbors=\"+str(n_neighbors))\n",
        "        print(\"accuracy=\"+str(clf_knn2.score(X_test, y_test)))\n",
        "    \n",
        "    print(\"\\n\")\n",
        "    print(\"best k=\"+str(best_k))\n",
        "    print(\"best accuracy=\"+str(best_accuracy))\n",
        "    if i==0:\n",
        "        ax1.plot(np.arange(1,len(y_train)+1),A)\n",
        "        ax1.set_title('weighting type:'+str(weight_type))\n",
        "    else:\n",
        "        ax2.plot(np.arange(1,len(y_train)+1),A)\n",
        "        ax2.set_title('weighting type:'+str(weight_type))\n",
        "    i=i+1\n",
        "\n",
        "plt.show()\n"
      ],
      "execution_count": 71,
      "outputs": [
        {
          "output_type": "stream",
          "name": "stdout",
          "text": [
            "weighting:uniform\n",
            "k neighbors=1\n",
            "accuracy=0.9166666666666666\n",
            "k neighbors=2\n",
            "accuracy=0.8833333333333333\n",
            "k neighbors=3\n",
            "accuracy=0.9333333333333333\n",
            "k neighbors=4\n",
            "accuracy=0.9\n",
            "k neighbors=5\n",
            "accuracy=0.95\n",
            "k neighbors=6\n",
            "accuracy=0.9166666666666666\n",
            "k neighbors=7\n",
            "accuracy=0.9666666666666667\n",
            "k neighbors=8\n",
            "accuracy=0.9333333333333333\n",
            "k neighbors=9\n",
            "accuracy=0.9666666666666667\n",
            "k neighbors=10\n",
            "accuracy=0.9666666666666667\n",
            "k neighbors=11\n",
            "accuracy=0.9666666666666667\n",
            "k neighbors=12\n",
            "accuracy=0.95\n",
            "k neighbors=13\n",
            "accuracy=0.95\n",
            "k neighbors=14\n",
            "accuracy=0.9166666666666666\n",
            "k neighbors=15\n",
            "accuracy=0.9333333333333333\n",
            "k neighbors=16\n",
            "accuracy=0.9166666666666666\n",
            "k neighbors=17\n",
            "accuracy=0.9333333333333333\n",
            "k neighbors=18\n",
            "accuracy=0.9333333333333333\n",
            "k neighbors=19\n",
            "accuracy=0.9333333333333333\n",
            "k neighbors=20\n",
            "accuracy=0.9166666666666666\n",
            "k neighbors=21\n",
            "accuracy=0.9333333333333333\n",
            "k neighbors=22\n",
            "accuracy=0.9\n",
            "k neighbors=23\n",
            "accuracy=0.9\n",
            "k neighbors=24\n",
            "accuracy=0.8833333333333333\n",
            "k neighbors=25\n",
            "accuracy=0.8666666666666667\n",
            "k neighbors=26\n",
            "accuracy=0.8833333333333333\n",
            "k neighbors=27\n",
            "accuracy=0.9\n",
            "k neighbors=28\n",
            "accuracy=0.8833333333333333\n",
            "k neighbors=29\n",
            "accuracy=0.9\n",
            "k neighbors=30\n",
            "accuracy=0.8666666666666667\n",
            "k neighbors=31\n",
            "accuracy=0.9\n",
            "k neighbors=32\n",
            "accuracy=0.8666666666666667\n",
            "k neighbors=33\n",
            "accuracy=0.8833333333333333\n",
            "k neighbors=34\n",
            "accuracy=0.8666666666666667\n",
            "k neighbors=35\n",
            "accuracy=0.8833333333333333\n",
            "k neighbors=36\n",
            "accuracy=0.8666666666666667\n",
            "k neighbors=37\n",
            "accuracy=0.8833333333333333\n",
            "k neighbors=38\n",
            "accuracy=0.8666666666666667\n",
            "k neighbors=39\n",
            "accuracy=0.8666666666666667\n",
            "k neighbors=40\n",
            "accuracy=0.8666666666666667\n",
            "k neighbors=41\n",
            "accuracy=0.8333333333333334\n",
            "k neighbors=42\n",
            "accuracy=0.8166666666666667\n",
            "k neighbors=43\n",
            "accuracy=0.8166666666666667\n",
            "k neighbors=44\n",
            "accuracy=0.8166666666666667\n",
            "k neighbors=45\n",
            "accuracy=0.85\n",
            "k neighbors=46\n",
            "accuracy=0.8333333333333334\n",
            "k neighbors=47\n",
            "accuracy=0.85\n",
            "k neighbors=48\n",
            "accuracy=0.85\n",
            "k neighbors=49\n",
            "accuracy=0.85\n",
            "k neighbors=50\n",
            "accuracy=0.85\n",
            "k neighbors=51\n",
            "accuracy=0.8333333333333334\n",
            "k neighbors=52\n",
            "accuracy=0.8166666666666667\n",
            "k neighbors=53\n",
            "accuracy=0.8333333333333334\n",
            "k neighbors=54\n",
            "accuracy=0.8333333333333334\n",
            "k neighbors=55\n",
            "accuracy=0.8\n",
            "k neighbors=56\n",
            "accuracy=0.8\n",
            "k neighbors=57\n",
            "accuracy=0.8\n",
            "k neighbors=58\n",
            "accuracy=0.7833333333333333\n",
            "k neighbors=59\n",
            "accuracy=0.7666666666666667\n",
            "k neighbors=60\n",
            "accuracy=0.7666666666666667\n",
            "k neighbors=61\n",
            "accuracy=0.7666666666666667\n",
            "k neighbors=62\n",
            "accuracy=0.75\n",
            "k neighbors=63\n",
            "accuracy=0.75\n",
            "k neighbors=64\n",
            "accuracy=0.75\n",
            "k neighbors=65\n",
            "accuracy=0.75\n",
            "k neighbors=66\n",
            "accuracy=0.75\n",
            "k neighbors=67\n",
            "accuracy=0.75\n",
            "k neighbors=68\n",
            "accuracy=0.75\n",
            "k neighbors=69\n",
            "accuracy=0.75\n",
            "k neighbors=70\n",
            "accuracy=0.7333333333333333\n",
            "k neighbors=71\n",
            "accuracy=0.7333333333333333\n",
            "k neighbors=72\n",
            "accuracy=0.7333333333333333\n",
            "k neighbors=73\n",
            "accuracy=0.7333333333333333\n",
            "k neighbors=74\n",
            "accuracy=0.7166666666666667\n",
            "k neighbors=75\n",
            "accuracy=0.7166666666666667\n",
            "k neighbors=76\n",
            "accuracy=0.6833333333333333\n",
            "k neighbors=77\n",
            "accuracy=0.6666666666666666\n",
            "k neighbors=78\n",
            "accuracy=0.6333333333333333\n",
            "k neighbors=79\n",
            "accuracy=0.6333333333333333\n",
            "k neighbors=80\n",
            "accuracy=0.6\n",
            "k neighbors=81\n",
            "accuracy=0.6\n",
            "k neighbors=82\n",
            "accuracy=0.6\n",
            "k neighbors=83\n",
            "accuracy=0.6\n",
            "k neighbors=84\n",
            "accuracy=0.6\n",
            "k neighbors=85\n",
            "accuracy=0.26666666666666666\n",
            "k neighbors=86\n",
            "accuracy=0.26666666666666666\n",
            "k neighbors=87\n",
            "accuracy=0.26666666666666666\n",
            "k neighbors=88\n",
            "accuracy=0.26666666666666666\n",
            "k neighbors=89\n",
            "accuracy=0.26666666666666666\n",
            "k neighbors=90\n",
            "accuracy=0.26666666666666666\n",
            "\n",
            "\n",
            "best k=7\n",
            "best accuracy=0.9666666666666667\n",
            "weighting:distance\n",
            "k neighbors=1\n",
            "accuracy=0.9166666666666666\n",
            "k neighbors=2\n",
            "accuracy=0.9166666666666666\n",
            "k neighbors=3\n",
            "accuracy=0.9333333333333333\n",
            "k neighbors=4\n",
            "accuracy=0.9166666666666666\n",
            "k neighbors=5\n",
            "accuracy=0.95\n",
            "k neighbors=6\n",
            "accuracy=0.9333333333333333\n",
            "k neighbors=7\n",
            "accuracy=0.9666666666666667\n",
            "k neighbors=8\n",
            "accuracy=0.9333333333333333\n",
            "k neighbors=9\n",
            "accuracy=0.9666666666666667\n",
            "k neighbors=10\n",
            "accuracy=0.9666666666666667\n",
            "k neighbors=11\n",
            "accuracy=0.9666666666666667\n",
            "k neighbors=12\n",
            "accuracy=0.9666666666666667\n",
            "k neighbors=13\n",
            "accuracy=0.9666666666666667\n",
            "k neighbors=14\n",
            "accuracy=0.95\n",
            "k neighbors=15\n",
            "accuracy=0.95\n",
            "k neighbors=16\n",
            "accuracy=0.9166666666666666\n",
            "k neighbors=17\n",
            "accuracy=0.9333333333333333\n",
            "k neighbors=18\n",
            "accuracy=0.9166666666666666\n",
            "k neighbors=19\n",
            "accuracy=0.9166666666666666\n",
            "k neighbors=20\n",
            "accuracy=0.9166666666666666\n",
            "k neighbors=21\n",
            "accuracy=0.9166666666666666\n",
            "k neighbors=22\n",
            "accuracy=0.9166666666666666\n",
            "k neighbors=23\n",
            "accuracy=0.9166666666666666\n",
            "k neighbors=24\n",
            "accuracy=0.9\n",
            "k neighbors=25\n",
            "accuracy=0.9166666666666666\n",
            "k neighbors=26\n",
            "accuracy=0.9166666666666666\n",
            "k neighbors=27\n",
            "accuracy=0.9333333333333333\n",
            "k neighbors=28\n",
            "accuracy=0.9333333333333333\n",
            "k neighbors=29\n",
            "accuracy=0.9333333333333333\n",
            "k neighbors=30\n",
            "accuracy=0.9166666666666666\n",
            "k neighbors=31\n",
            "accuracy=0.9333333333333333\n",
            "k neighbors=32\n",
            "accuracy=0.9166666666666666\n",
            "k neighbors=33\n",
            "accuracy=0.9333333333333333\n",
            "k neighbors=34\n",
            "accuracy=0.9166666666666666\n",
            "k neighbors=35\n",
            "accuracy=0.9333333333333333\n",
            "k neighbors=36\n",
            "accuracy=0.9166666666666666\n",
            "k neighbors=37\n",
            "accuracy=0.9333333333333333\n",
            "k neighbors=38\n",
            "accuracy=0.9\n",
            "k neighbors=39\n",
            "accuracy=0.9166666666666666\n",
            "k neighbors=40\n",
            "accuracy=0.9166666666666666\n",
            "k neighbors=41\n",
            "accuracy=0.9333333333333333\n",
            "k neighbors=42\n",
            "accuracy=0.9333333333333333\n",
            "k neighbors=43\n",
            "accuracy=0.9333333333333333\n",
            "k neighbors=44\n",
            "accuracy=0.9166666666666666\n",
            "k neighbors=45\n",
            "accuracy=0.9333333333333333\n",
            "k neighbors=46\n",
            "accuracy=0.9166666666666666\n",
            "k neighbors=47\n",
            "accuracy=0.9166666666666666\n",
            "k neighbors=48\n",
            "accuracy=0.9166666666666666\n",
            "k neighbors=49\n",
            "accuracy=0.9166666666666666\n",
            "k neighbors=50\n",
            "accuracy=0.9166666666666666\n",
            "k neighbors=51\n",
            "accuracy=0.9333333333333333\n",
            "k neighbors=52\n",
            "accuracy=0.9333333333333333\n",
            "k neighbors=53\n",
            "accuracy=0.9333333333333333\n",
            "k neighbors=54\n",
            "accuracy=0.9333333333333333\n",
            "k neighbors=55\n",
            "accuracy=0.9333333333333333\n",
            "k neighbors=56\n",
            "accuracy=0.95\n",
            "k neighbors=57\n",
            "accuracy=0.95\n",
            "k neighbors=58\n",
            "accuracy=0.95\n",
            "k neighbors=59\n",
            "accuracy=0.95\n",
            "k neighbors=60\n",
            "accuracy=0.95\n",
            "k neighbors=61\n",
            "accuracy=0.95\n",
            "k neighbors=62\n",
            "accuracy=0.95\n",
            "k neighbors=63\n",
            "accuracy=0.95\n",
            "k neighbors=64\n",
            "accuracy=0.95\n",
            "k neighbors=65\n",
            "accuracy=0.95\n",
            "k neighbors=66\n",
            "accuracy=0.95\n",
            "k neighbors=67\n",
            "accuracy=0.95\n",
            "k neighbors=68\n",
            "accuracy=0.95\n",
            "k neighbors=69\n",
            "accuracy=0.95\n",
            "k neighbors=70\n",
            "accuracy=0.95\n",
            "k neighbors=71\n",
            "accuracy=0.95\n",
            "k neighbors=72\n",
            "accuracy=0.95\n",
            "k neighbors=73\n",
            "accuracy=0.95\n",
            "k neighbors=74\n",
            "accuracy=0.95\n",
            "k neighbors=75\n",
            "accuracy=0.95\n",
            "k neighbors=76\n",
            "accuracy=0.95\n",
            "k neighbors=77\n",
            "accuracy=0.95\n",
            "k neighbors=78\n",
            "accuracy=0.95\n",
            "k neighbors=79\n",
            "accuracy=0.95\n",
            "k neighbors=80\n",
            "accuracy=0.95\n",
            "k neighbors=81\n",
            "accuracy=0.95\n",
            "k neighbors=82\n",
            "accuracy=0.95\n",
            "k neighbors=83\n",
            "accuracy=0.95\n",
            "k neighbors=84\n",
            "accuracy=0.95\n",
            "k neighbors=85\n",
            "accuracy=0.95\n",
            "k neighbors=86\n",
            "accuracy=0.95\n",
            "k neighbors=87\n",
            "accuracy=0.95\n",
            "k neighbors=88\n",
            "accuracy=0.95\n",
            "k neighbors=89\n",
            "accuracy=0.95\n",
            "k neighbors=90\n",
            "accuracy=0.95\n",
            "\n",
            "\n",
            "best k=7\n",
            "best accuracy=0.9666666666666667\n"
          ]
        },
        {
          "output_type": "display_data",
          "data": {
            "image/png": "[encoded data removed]",
            "text/plain": [
              "<Figure size 432x288 with 2 Axes>"
            ]
          },
          "metadata": {
            "needs_background": "light"
          }
        }
      ]
    },
    {
      "cell_type": "markdown",
      "metadata": {
        "collapsed": true,
        "id": "LXhkXpz0EYTj"
      },
      "source": [
        "In the following cell we plot (overlapping) in the same picture both the diagrams on accuracy with the two kinds of weighting \n",
        "of the vote of the neighbours (uniform and with distance)\n",
        "\n",
        "**Qua vediamo la differenza di performance tra _uniform_  e _distance_. COme si nota con _distance_ otteniamo performance migliori perchè con _uniform_, aumentando il numero di vicini, avremo sempre di più una situazione con un cluster per ogni esempio (praticamente avremo una situazione con numero vicini=numero di esempi) andando a peggiorare progressivamente l'efficenza**"
      ]
    },
    {
      "cell_type": "code",
      "metadata": {
        "id": "7_nkikvMEYTk"
      },
      "source": [
        "import numpy as np\n",
        "from numpy import zeros\n",
        "from sklearn import neighbors\n",
        "from sklearn.datasets import load_iris\n",
        "iris = load_iris()\n",
        "from sklearn.model_selection import train_test_split\n",
        "\n",
        "import matplotlib.pyplot as plt\n",
        "\n",
        "X_train, X_test, y_train, y_test = train_test_split(iris.data, iris.target, test_size=0.4, random_state=0)\n",
        "\n",
        "fig = plt.figure()\n",
        "fig.suptitle('Accuracy in k-nn with number of neighbors and types of weighting', fontsize=14, fontweight='bold')\n",
        "ax = fig.add_subplot(111)\n",
        "ax.set_xlabel('n. neighbors')\n",
        "ax.set_ylabel('accuracy')\n",
        "\n",
        "A=np.zeros((len(y_train),2), dtype=np.float) # 2 arrays for storing accuracies for each type of weigthing\n",
        "i=0  #parameter in the control of the different diagram (=matrix A column index)\n",
        "best_accuracy=0\n",
        "for weight_type in ['uniform','distance']:\n",
        "    print(\"\\n weighting:\"+str(weight_type))\n",
        "    best_accuracy=0\n",
        "    best_k=1\n",
        "    for n_neighbors in np.arange(1,len(y_train)+1):\n",
        "        clf_knn2 = neighbors.KNeighborsClassifier(n_neighbors, weights=weight_type)\n",
        "        # (n_neighbors=5, weights='uniform', algorithm='auto', leaf_size=30, p=2, metric='minkowski', metric_params=None, n_jobs=1, **kwargs)\n",
        "        clf_knn2.fit(X_train, y_train)\n",
        "        index=n_neighbors-1 # computes the matrix row index\n",
        "        A[index,i]=clf_knn2.score(X_test, y_test)\n",
        "        if best_accuracy<clf_knn2.score(X_test, y_test):\n",
        "            best_accuracy=clf_knn2.score(X_test, y_test)\n",
        "            best_k=n_neighbors\n",
        "        print(\"k neighbors=\"+str(n_neighbors))\n",
        "        print(\"accuracy=\"+str(clf_knn2.score(X_test, y_test)))\n",
        "    \n",
        "    print(\"\\n\")\n",
        "    print(\"best k=\"+str(best_k))\n",
        "    print(\"best accuracy=\"+str(best_accuracy))\n",
        "    plt.plot(np.arange(1,len(y_train)+1),A[:,i])\n",
        "    i=i+1\n",
        "plt.legend(['uniform', 'distance'], loc='lower left')  \n",
        "plt.show()\n"
      ],
      "execution_count": null,
      "outputs": []
    },
    {
      "cell_type": "markdown",
      "metadata": {
        "collapsed": true,
        "id": "-aSX54vFEYTp"
      },
      "source": [
        "#Plot the Iris dataset, in 2-D, with a red color for Setosa, blu for Versicolor, Green for Virginica.\n"
      ]
    },
    {
      "cell_type": "code",
      "metadata": {
        "id": "5o8cPLOdEYTq"
      },
      "source": [
        "colors = [0]*len(iris.data)\n",
        "for i in range(len(iris.data)):\n",
        "  if(iris.target[i]==0): # setosa\n",
        "    colors[i] = 'r'\n",
        "  elif(iris.target[i]==1): # versicolor\n",
        "    colors[i] = 'b'\n",
        "  else: # virginica\n",
        "    colors[i] = 'g'\n"
      ],
      "execution_count": 11,
      "outputs": []
    },
    {
      "cell_type": "code",
      "source": [
        "# iris.data[:, 0], iris.data[:, 1] # sepal lenght and sepal width\n",
        "# iris.data[:, 2], iris.data[:, 3] # petal lenght and petal width"
      ],
      "metadata": {
        "id": "yR9UCZPHI9_y",
        "colab": {
          "base_uri": "https://localhost:8080/"
        },
        "outputId": "88ede151-1217-44f5-d810-4ad14c3b66e9"
      },
      "execution_count": 19,
      "outputs": [
        {
          "output_type": "execute_result",
          "data": {
            "text/plain": [
              "array([4.7, 3.2, 1.3, 0.2])"
            ]
          },
          "metadata": {},
          "execution_count": 19
        }
      ]
    },
    {
      "cell_type": "code",
      "source": [
        "plt.scatter(iris.data[:, 2], iris.data[:, 3], c=colors) # prendiamo 2 features (petal lenght and petal width) per poter plottare in 2 dimensioni\n",
        "plt.xlabel(\"Petal length\")\n",
        "plt.ylabel(\"Petal width\")\n",
        "plt.show()"
      ],
      "metadata": {
        "colab": {
          "base_uri": "https://localhost:8080/",
          "height": 278
        },
        "id": "aDlFo8pGH-x7",
        "outputId": "657f773b-8cd1-4489-d6dc-832a05ca75d2"
      },
      "execution_count": 20,
      "outputs": [
        {
          "output_type": "display_data",
          "data": {
            "image/png": "[encoded data removed]",
            "text/plain": [
              "<Figure size 432x288 with 1 Axes>"
            ]
          },
          "metadata": {
            "needs_background": "light"
          }
        }
      ]
    },
    {
      "cell_type": "markdown",
      "source": [
        "Notiamo che la (come abbiamo visto nel notebook precedente) la classe **Setosa**, è ben distanziata mentre **Versicolor** e **Virginica** hanno alcuni esempi che si intrecciano "
      ],
      "metadata": {
        "id": "o64glZFZmY7m"
      }
    },
    {
      "cell_type": "markdown",
      "metadata": {
        "id": "Fs9ogv4vEYTt"
      },
      "source": [
        "# What you have to do: \n",
        "##1. Plot the Iris dataset, in 2-D, with the color as above determined by the k-nn estimation\n"
      ]
    },
    {
      "cell_type": "code",
      "metadata": {
        "id": "niu9K9kn43ZM"
      },
      "source": [
        "from sklearn.model_selection import train_test_split\n",
        "n_neighbors = 7 #abbiamo visto che è il miglior k da usare\n",
        "X_train, X_test, y_train, y_test = train_test_split(iris.data, iris.target, test_size=0.2, random_state=300)\n",
        "clf = neighbors.KNeighborsClassifier(n_neighbors, weights='distance') #usiamo distance perchè abbiamo notato essere meglio di uniform\n",
        "clf.fit(X_train, y_train)\n",
        "y_pred = clf.predict(X_test)"
      ],
      "execution_count": 23,
      "outputs": []
    },
    {
      "cell_type": "code",
      "source": [
        "#coloriamo in base alla predizione\n",
        "colors_pred = [0]*len(y_pred)\n",
        "for i in range(len(X_test)):\n",
        "  if(y_pred[i]==0): # setosa\n",
        "    colors_pred[i] = 'r'\n",
        "  elif(y_pred[i]==1): # versicolor\n",
        "    colors_pred[i] = 'b'\n",
        "  else: # virginica\n",
        "    colors_pred[i] = 'g'\n",
        "\n",
        "#coloriamo in base alla loro vera etichetta\n",
        "colors_true = [0]*len(y_test)\n",
        "for i in range(len(X_test)):\n",
        "  if(y_test[i]==0): # setosa\n",
        "    colors_pred[i] = 'r'\n",
        "  elif(y_test[i]==1): # versicolor\n",
        "    colors_pred[i] = 'b'\n",
        "  else: # virginica\n",
        "    colors_true[i] = 'g'\n"
      ],
      "metadata": {
        "id": "F8qEOVlRKXSn"
      },
      "execution_count": 31,
      "outputs": []
    },
    {
      "cell_type": "code",
      "source": [
        "mispredicted"
      ],
      "metadata": {
        "colab": {
          "base_uri": "https://localhost:8080/"
        },
        "id": "KvnUsZEKLvGY",
        "outputId": "4e014b71-79f9-4c44-a9bd-4a0ef9eb2ca6"
      },
      "execution_count": 27,
      "outputs": [
        {
          "output_type": "execute_result",
          "data": {
            "text/plain": [
              "[18, 26]"
            ]
          },
          "metadata": {},
          "execution_count": 27
        }
      ]
    },
    {
      "cell_type": "code",
      "source": [
        "mispredicted = list(np.where(y_pred!=y_test)[0]) # esempi classificati male\n",
        "for i in mispredicted:\n",
        "  colors_pred[i] = \"orange\" # colora di arancione gli esempi malclassificati\n"
      ],
      "metadata": {
        "id": "zg3LQY15LbWT"
      },
      "execution_count": 33,
      "outputs": []
    },
    {
      "cell_type": "code",
      "source": [
        "plt.scatter(X_test[:, 2], X_test[:, 3], c=colors_pred)\n",
        "plt.xlabel(\"Petal length\")\n",
        "plt.ylabel(\"Petal width\")\n",
        "plt.show()"
      ],
      "metadata": {
        "colab": {
          "base_uri": "https://localhost:8080/",
          "height": 278
        },
        "id": "YWump-19KjpE",
        "outputId": "6c26dcad-c181-4688-9328-6c95077dd93e"
      },
      "execution_count": 34,
      "outputs": [
        {
          "output_type": "display_data",
          "data": {
            "image/png": "[encoded data removed]",
            "text/plain": [
              "<Figure size 432x288 with 1 Axes>"
            ]
          },
          "metadata": {
            "needs_background": "light"
          }
        }
      ]
    },
    {
      "cell_type": "markdown",
      "source": [
        "Notiamo che le previsioni sono molto simili a quelle plottate prima con il dataset, ma notiamo però che ci sono due esempi **malclassificati** (in arancione) infatti non sono stati ben classificati 2 esempi di **Virginica** i quali sono stati erroneamente classificati come **Versicolor**"
      ],
      "metadata": {
        "id": "4pw2zi7NokMA"
      }
    },
    {
      "cell_type": "markdown",
      "metadata": {
        "id": "B6iglAFh37rQ"
      },
      "source": [
        "#2. Plot the ROC plot of the k-nn (for the best value of k) for each of the three classes: setosa, virginica and versicolor\n",
        "#3. Plot the ROC plot for the best decision tree you trained in Exercize n.1  \n",
        "#4. Compare decision trees and k-nn on the ROC space: for which values of (TPR,FPR) k-nn is better than decision trees?"
      ]
    },
    {
      "cell_type": "code",
      "metadata": {
        "id": "n4d3We4cEYTu"
      },
      "source": [
        "from sklearn.metrics import roc_curve, auc\n",
        "from scipy import interp\n",
        "from itertools import cycle\n",
        "\n",
        "def roc_plot(num_classes, y_pred, y_true, title, ax):\n",
        "  fpr = {}\n",
        "  tpr = {}\n",
        "  roc = {}\n",
        "\n",
        "  for i in range(num_classes):\n",
        "    fpr[i], tpr[i], _ = roc_curve(y_true[:, i], y_pred[:, i])\n",
        "    roc[i] = auc(fpr[i], tpr[i])\n",
        "  \n",
        "  all_fpr = np.unique(np.concatenate([fpr[i] for i in range(num_classes)]))\n",
        "  mean_tpr = np.zeros_like(all_fpr)\n",
        "  for i in range(num_classes):\n",
        "    mean_tpr+=interp(all_fpr, fpr[i], tpr[i])\n",
        "  mean_tpr/=num_classes\n",
        "\n",
        "  fpr[\"mean\"] = all_fpr\n",
        "  tpr[\"mean\"] = mean_tpr\n",
        "  roc[\"mean\"] = auc(fpr[\"mean\"], tpr[\"mean\"])\n",
        "\n",
        "  ax.plot(fpr[\"mean\"], tpr[\"mean\"], label=\"ROC curve (area = {:0.2f})\".format(roc[\"mean\"]), color=\"blue\", linestyle=\":\")\n",
        "\n",
        "  colors = cycle([\"red\", \"aqua\", \"yellow\"])\n",
        "  for i, color in zip(range(num_classes), colors):\n",
        "    ax.plot(fpr[i], tpr[i], color=color, label=\"ROC curve for {0} (area = {1:0.2f})\".format(iris.target_names[i], roc[i]))\n",
        "\n",
        "  ax.set_xlabel(\"FPR\")\n",
        "  ax.set_ylabel(\"TPR\")\n",
        "  ax.legend(loc=\"best\")\n",
        "  ax.plot([0,1], [0,1], 'k--')\n",
        "  ax.set_title(title)\n",
        "  #plt.show()\n",
        "\n"
      ],
      "execution_count": 35,
      "outputs": []
    },
    {
      "cell_type": "code",
      "source": [
        "from sklearn.model_selection import train_test_split\n",
        "n_neighbors = 7\n",
        "\n",
        "knn_classifier = neighbors.KNeighborsClassifier(n_neighbors, weights='distance')\n",
        "tree_classifier = tree.DecisionTreeClassifier(class_weight=\"balanced\", max_depth=2)\n",
        "\n",
        "# fit knn classifier on training set\n",
        "knn_classifier.fit(X_train, y_train)\n",
        "knn_pred = clf.predict(X_test)\n",
        "\n",
        "# fit tree classifier on training set\n",
        "tree_classifier.fit(X_train, y_train)\n",
        "tree_pred = clf.predict(X_test)"
      ],
      "metadata": {
        "id": "j5co36opNGEu"
      },
      "execution_count": 36,
      "outputs": []
    },
    {
      "cell_type": "code",
      "source": [
        "knn_prob = knn_classifier.predict_proba(X_test)\n",
        "knn_actual_prob = np.zeros((y_test.size, 3))\n",
        "for i,y in np.ndenumerate(y_test):\n",
        "  knn_actual_prob[i,y]=1\n",
        "\n",
        "tree_prob = tree_classifier.predict_proba(X_test)\n",
        "tree_actual_prob = np.zeros((y_test.size, 3))\n",
        "for i,y in np.ndenumerate(y_test):\n",
        "  tree_actual_prob[i,y]=1"
      ],
      "metadata": {
        "id": "5u9nZDh_NAB4"
      },
      "execution_count": 37,
      "outputs": []
    },
    {
      "cell_type": "code",
      "source": [
        "f, ax = plt.subplots(1, 2, sharey=True, figsize=(20,8))\n",
        "roc_plot(3, knn_prob, knn_actual_prob, \"KNN Classifier ROC plot\", ax[0])\n",
        "roc_plot(3, tree_prob, tree_actual_prob, \"Decision Tree Classifier ROC plot\", ax[1])"
      ],
      "metadata": {
        "colab": {
          "base_uri": "https://localhost:8080/",
          "height": 550
        },
        "id": "W7vhCypGOUAZ",
        "outputId": "9f935256-517c-4ff8-a8db-d84dcba31508"
      },
      "execution_count": 38,
      "outputs": [
        {
          "output_type": "stream",
          "name": "stderr",
          "text": [
            "/usr/local/lib/python3.7/dist-packages/ipykernel_launcher.py:17: DeprecationWarning: scipy.interp is deprecated and will be removed in SciPy 2.0.0, use numpy.interp instead\n",
            "/usr/local/lib/python3.7/dist-packages/ipykernel_launcher.py:17: DeprecationWarning: scipy.interp is deprecated and will be removed in SciPy 2.0.0, use numpy.interp instead\n"
          ]
        },
        {
          "output_type": "display_data",
          "data": {
            "image/png": "[encoded data removed]",
            "text/plain": [
              "<Figure size 1440x576 with 2 Axes>"
            ]
          },
          "metadata": {
            "needs_background": "light"
          }
        }
      ]
    },
    {
      "cell_type": "markdown",
      "source": [
        "Da questo confronto del ROC plot del KNN e del Decision Tree notiamo che il KNN performa meglio in quanto l'area sotto la curva del KNN è maggiore di quella del Decision Tree (0.99 (knn) > 0.97 (decision_tree).\n",
        "\n",
        "Questo lo si nota anche andando a vedere nelle singole classi come il KNN performi meglio l'area sotto la curva rispetto al Decision Tree:\n",
        "\n",
        "\n",
        "*   **KNN** --> (**Versicolor** 0.99) - (**Virginica** 0.99)\n",
        "*   **Decision Tree** --> (**Versicolor** 0.95) - (**Virginica** 0.96)\n"
      ],
      "metadata": {
        "id": "vQZsCEkUrYek"
      }
    },
    {
      "cell_type": "markdown",
      "metadata": {
        "id": "aqQOXvLKEYTy"
      },
      "source": [
        "#5. In the following, extend the above exercize on k-nn using a kernel function  \n",
        "K(x,y) for the distances computation, such that distance(x,y)=1-K(x,y).    Use a Gaussian-like (or Radial Basis Function) kernel K(x,y)=exp(-gamma(x-y)^2), with gamma the inverse of the sigma squared variance, that must be tuned to the best value according to the accuracy reached by the k-nn, with k=7 (similarly as done with the previous example on tuning the parameter n_neightbors).\n",
        "\n",
        "**Sostanzialmente al posto che adottare un approccio lineare utilizziamo una funzione radiale**"
      ]
    },
    {
      "cell_type": "code",
      "metadata": {
        "id": "aBWkBiriEYTy",
        "colab": {
          "base_uri": "https://localhost:8080/"
        },
        "outputId": "fb8cbfbf-81a7-4f14-e530-3fe424fe4844"
      },
      "source": [
        "#definiamo la funzione per la gaussiana che accetta dei valori e restituisce le distanze (che saranno i nostri pesi)\n",
        "def gaussian(sigma):\n",
        "  def distance(dist):\n",
        "    x = -(dist/(2*sigma**2))\n",
        "    f_x = np.exp(x)\n",
        "    return f_x\n",
        "  return distance\n",
        "\n",
        "n_neighbors = 7\n",
        "best_sigma = 0\n",
        "best_accuracy = 0\n",
        "for sigma in np.linspace(0.01, 10, 100): #generiamo 100 valori di sigma\n",
        "  clf = neighbors.KNeighborsClassifier(n_neighbors, weights=gaussian(sigma), metric=\"euclidean\") # in weights questa volta non usiamo \"distance\" ma appunto usiamo la nostra funzione \"gaussian\"\n",
        "  scores = cross_val_score(clf, iris.data, iris.target, cv=5)\n",
        "  score = np.mean(scores)\n",
        "  if score > best_accuracy:\n",
        "    best_accuracy = score\n",
        "    best_sigma = sigma\n",
        "best_accuracy, best_sigma"
      ],
      "execution_count": 56,
      "outputs": [
        {
          "output_type": "execute_result",
          "data": {
            "text/plain": [
              "(0.9800000000000001, 0.41363636363636364)"
            ]
          },
          "metadata": {},
          "execution_count": 56
        }
      ]
    },
    {
      "cell_type": "markdown",
      "source": [
        "Notiamo che abbiamo un'accuratezza di 0.98 e il nostro miglior sigma è 0.36.\n",
        "\n",
        "Proviamo ora a plottare questi risultati e vedere quindi la curva ROC..ma prima proviamo a fare la stessa cosa fatta prima senza però usare la Cross Validation"
      ],
      "metadata": {
        "id": "pg_nab7-vIcW"
      }
    },
    {
      "cell_type": "code",
      "source": [
        "kernel_clf = neighbors.KNeighborsClassifier(n_neighbors, weights=gaussian(best_sigma), metric=\"euclidean\")\n",
        "kernel_clf.fit(X_train, y_train)\n",
        "kernel_clf.score(X_test, y_test)"
      ],
      "metadata": {
        "colab": {
          "base_uri": "https://localhost:8080/"
        },
        "id": "wXYBnUDCR_ss",
        "outputId": "63ae6f6c-f426-480c-e99a-95a5e8f076dd"
      },
      "execution_count": 62,
      "outputs": [
        {
          "output_type": "execute_result",
          "data": {
            "text/plain": [
              "0.9333333333333333"
            ]
          },
          "metadata": {},
          "execution_count": 62
        }
      ]
    },
    {
      "cell_type": "markdown",
      "source": [
        "Senza usare Cross Validation (CV), quindi basandoci solo sullo split otteniamo performance peggiori 0.93 a scapito di 0.98 con CV"
      ],
      "metadata": {
        "id": "TEp1C4R5xflQ"
      }
    },
    {
      "cell_type": "code",
      "source": [
        "kernel_prob = kernel_clf.predict_proba(X_test)\n",
        "kernel_actual_prob = np.zeros((y_test.size, 3))\n",
        "for i,y in np.ndenumerate(y_test):\n",
        "  kernel_actual_prob[i,y]=1"
      ],
      "metadata": {
        "id": "SnDEvXSMS-T3"
      },
      "execution_count": 60,
      "outputs": []
    },
    {
      "cell_type": "code",
      "source": [
        "def roc_plot(num_classes, y_pred, y_true):\n",
        "  fpr = {}\n",
        "  tpr = {}\n",
        "  roc = {}\n",
        "\n",
        "  for i in range(num_classes):\n",
        "    fpr[i], tpr[i], _ = roc_curve(y_true[:, i], y_pred[:, i])\n",
        "    roc[i] = auc(fpr[i], tpr[i])\n",
        "  \n",
        "  all_fpr = np.unique(np.concatenate([fpr[i] for i in range(num_classes)]))\n",
        "  mean_tpr = np.zeros_like(all_fpr)\n",
        "  for i in range(num_classes):\n",
        "    mean_tpr+=interp(all_fpr, fpr[i], tpr[i])\n",
        "  mean_tpr/=num_classes\n",
        "\n",
        "  fpr[\"mean\"] = all_fpr\n",
        "  tpr[\"mean\"] = mean_tpr\n",
        "  roc[\"mean\"] = auc(fpr[\"mean\"], tpr[\"mean\"])\n",
        "\n",
        "  plt.plot(fpr[\"mean\"], tpr[\"mean\"], label=\"ROC curve (area = {:0.2f})\".format(roc[\"mean\"]), color=\"blue\", linestyle=\":\")\n",
        "\n",
        "  colors = cycle([\"red\", \"aqua\", \"yellow\"])\n",
        "  for i, color in zip(range(num_classes), colors):\n",
        "    plt.plot(fpr[i], tpr[i], color=color, label=\"ROC curve for {0} (area = {1:0.2f})\".format(iris.target_names[i], roc[i]))\n",
        "\n",
        "  plt.xlabel(\"fpr\")\n",
        "  plt.ylabel(\"tpr\")\n",
        "  plt.legend(loc=\"best\")\n",
        "  plt.plot([0,1], [0,1], 'k--')\n",
        "  plt.show()\n",
        "\n"
      ],
      "metadata": {
        "id": "4Za2INnETRM7"
      },
      "execution_count": 59,
      "outputs": []
    },
    {
      "cell_type": "code",
      "source": [
        "roc_plot(3, kernel_prob, kernel_actual_prob)"
      ],
      "metadata": {
        "colab": {
          "base_uri": "https://localhost:8080/",
          "height": 315
        },
        "id": "qR5nrUeuTKxZ",
        "outputId": "fe283a86-d391-4f0a-ebaf-ed303f11f9e6"
      },
      "execution_count": 48,
      "outputs": [
        {
          "output_type": "stream",
          "name": "stderr",
          "text": [
            "/usr/local/lib/python3.7/dist-packages/ipykernel_launcher.py:13: DeprecationWarning: scipy.interp is deprecated and will be removed in SciPy 2.0.0, use numpy.interp instead\n",
            "  del sys.path[0]\n"
          ]
        },
        {
          "output_type": "display_data",
          "data": {
            "image/png": "[encoded data removed]",
            "text/plain": [
              "<Figure size 432x288 with 1 Axes>"
            ]
          },
          "metadata": {
            "needs_background": "light"
          }
        }
      ]
    },
    {
      "cell_type": "markdown",
      "source": [
        "Le performance sono prettamente quelle ottenute in precedenza viste con il KNN non notiamo grosse differenze sull'accuratezza"
      ],
      "metadata": {
        "id": "y6Sy4QIawj_K"
      }
    }
  ]
}