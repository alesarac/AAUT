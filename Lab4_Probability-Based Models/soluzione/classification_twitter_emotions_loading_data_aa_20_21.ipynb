{
  "cells": [
    {
      "cell_type": "markdown",
      "metadata": {
        "id": "7vWhC1-mMyop"
      },
      "source": [
        "# # Classifiers comparison on texts with naive Bayes assumption\n",
        "\n",
        "In this session of laboratory we compare two models for categorical data probabilistic modeling: \n",
        "1. multivariate Bernoulli \n",
        "2. multinomial on a dataset \n",
        "\n",
        "We adopt a dataset on Twitter messages labelled with emotions (Joy vs Sadness).\n",
        "\n",
        "The following program shows the loading of the data from a file."
      ]
    },
    {
      "cell_type": "markdown",
      "metadata": {
        "id": "i70pgsCOMyop"
      },
      "source": [
        "Data are loaded into a matrix X adopting a sparse matrix representation, in order to save space and time.\n",
        "Sparse matrix representation (in the csr format) represents in three \"parallel\" arrays the value of the matrix cells that are different from zero and the indices of those matrix cells.\n",
        "The arrays are called: \n",
        "- data\n",
        "- row\n",
        "- col\n",
        "\n",
        "- data[i] stores the value of the matrix cell #i whose indexes are contained in row[i] and col[i] \n",
        "- row[i] stores the index of the row in the matrix of the cell #i, \n",
        "- col[i] stores the index of the column of the cell #i.\n"
      ]
    },
    {
      "cell_type": "markdown",
      "metadata": {
        "id": "Sktoeaw5Myop"
      },
      "source": [
        "The data file is in csv format.\n",
        "Any Twitter message has been preprocessed by a Natural Language pipeline which eliminated stop words and substituted the interesting document elements with an integer identifier.  \n",
        "The interesting document elements might be words, emoji or emoticons. The elements could be repeated in the same document and are uniquely identified in the documents by the same integer number (named \"element_id\" in the program). This \"element_id\" number will be used as the index of the column of the data matrix, for the purposes of storage of data.\n",
        "\n",
        "Each row of the CSV file reports the content of a document (a Twitter message).It is formed as a list of integer number pairs, followed by a string which is the label of the document (\"Joy\" or \"Sadness\").\n",
        "The first number of the pair is the identifier of a document element (the \"element_id\"); \n",
        "the second number of the pair is the count (frequency) of that element in that document.\n",
        "\n",
        "The dataset has:\n",
        "\n",
        "tot_n_docs (or rows in the file) =n_rows=11981\n",
        "\n",
        "n_features (total number of distinct words in the corpus)=11288\n",
        "\n"
      ]
    },
    {
      "cell_type": "markdown",
      "metadata": {
        "collapsed": true,
        "id": "Phlf-MPAMyop"
      },
      "source": [
        "The following program reads the data file and loads in a sparse way the matrix using the scipy.sparse library"
      ]
    },
    {
      "cell_type": "code",
      "execution_count": null,
      "metadata": {
        "id": "rMyi3U-ZMyop"
      },
      "outputs": [],
      "source": [
        "\n",
        "from numpy import ndarray, zeros\n",
        "import numpy as np\n",
        "import scipy\n",
        "from scipy.sparse import csr_matrix\n",
        "\n",
        "class_labels = [\"Joy\",\"Sadness\"]\n",
        "n_features=11288 # number of columns in the matrix = number of features (distinct elements in the documents)\n",
        "n_rows=11981 # number rows of the matrix\n",
        "n_elements=71474 # number of the existing values in the matrix (not empty, to be loaded in the matrix in a sparse way)\n",
        "\n",
        "#path_training=\"/Users/meo/Documents/Didattica/Laboratorio-15-16-Jupyter/\"\n",
        "path_training=\"./\"\n",
        "file_name=\"joy_sadness6000.txt\"\n",
        "\n",
        "# declare the row and col arrays with the indexes of the matrix cells (non empty) to be loaded from file\n",
        "# they are needed because the matrix is sparse and we load in the matrix only the elements which are present\n",
        "row=np.empty(n_elements, dtype=int)\n",
        "col=np.empty(n_elements, dtype=int)\n",
        "data=np.empty(n_elements, dtype=int)\n",
        "\n",
        "row_n=0 # number of current row to be read and managed\n",
        "cur_el=0 # position in the three arrays: row, col and data\n",
        "twitter_labels=[] # list of class labels (target array) of the documents (twitter) that will be read from the input file\n",
        "twitter_target=[] # list of 0/1 for class labels\n",
        "with open(path_training + file_name, \"r\") as fi:\n",
        "    for line in fi:\n",
        "        el_list=line.split(',')  # list of integers read from a row of the file\n",
        "        l=len(el_list)\n",
        "        last_el=el_list[l-1] # I grab the last element in the list which is the class label\n",
        "        class_name=last_el.strip() # eliminate the '\\n'\n",
        "        twitter_labels.append(class_name)\n",
        "        # twitter_labels contains the labels (Joy/Sadness); twitter_target contains 0/1 for the respective labels\n",
        "        if (class_name==class_labels[0]):\n",
        "           twitter_target.append(0)\n",
        "        else:\n",
        "           twitter_target.append(1)\n",
        "        i=0 # I start reading all the doc elements from the beginning of the list\n",
        "        while(i<(l-1)):\n",
        "            element_id=int(el_list[i]) # identifier of the element in the document equivalent to the column index\n",
        "            element_id=element_id-1 # the index starts from 0 (the read id starts from 1)\n",
        "            i=i+1\n",
        "            value_cell=int(el_list[i]) # make access to the following value in the file which is the count of the element in the documento \n",
        "            i=i+1\n",
        "            row[cur_el]=row_n # load the data in the three arrays: the first two are the row and col indexes; the last one is the matrix cell value\n",
        "            col[cur_el]=element_id\n",
        "            data[cur_el]=value_cell\n",
        "            cur_el=cur_el+1\n",
        "        row_n=row_n+1\n",
        "fi.close\n",
        "print(\"final n_row=\"+str(row))\n",
        "# loads the matrix by means of the indexes and the values in the three arrays just filled\n",
        "twitter_data=csr_matrix((data, (row, col)), shape=(n_rows, n_features)).toarray()\n",
        "print(\"resulting matrix:\")\n",
        "print(twitter_data)\n",
        "print(twitter_labels)\n",
        "print(twitter_target)\n"
      ]
    },
    {
      "cell_type": "markdown",
      "metadata": {
        "collapsed": true,
        "id": "v4FHZONyMyoq"
      },
      "source": [
        "Write a program in the following cell that splits the data matrix in training and test set (by random selection) and predicts the class (Joy/Sadness) of the messages on the basis of the words. \n",
        "Consider the two possible models:\n",
        "multivariate Bernoulli and multinomial Bernoulli.\n",
        "Find the accuracy of the models and test is the observed differences are significant."
      ]
    },
    {
      "cell_type": "code",
      "execution_count": 4,
      "metadata": {
        "id": "c44Vk519Myoq"
      },
      "outputs": [],
      "source": [
        "from sklearn.model_selection import train_test_split, cross_val_score"
      ]
    },
    {
      "cell_type": "code",
      "execution_count": 5,
      "metadata": {
        "colab": {
          "base_uri": "https://localhost:8080/"
        },
        "id": "QORbkd3Z3A7Y",
        "outputId": "36f2c83d-f448-494e-b75e-c869ff6294a8"
      },
      "outputs": [
        {
          "output_type": "execute_result",
          "data": {
            "text/plain": [
              "((9584, 11288), (2397, 11288))"
            ]
          },
          "metadata": {},
          "execution_count": 5
        }
      ],
      "source": [
        "X_train, X_test, y_train, y_test = train_test_split(twitter_data, twitter_labels, test_size=0.2, random_state=0) #prendiamo il 20% come test set e mettiamo il seed (random state) a 0\n",
        "X_train.shape, X_test.shape"
      ]
    },
    {
      "cell_type": "markdown",
      "source": [
        "##Partiamo con Bernulli Multivariato"
      ],
      "metadata": {
        "id": "_yOpBCty3uAD"
      }
    },
    {
      "cell_type": "code",
      "execution_count": 6,
      "metadata": {
        "colab": {
          "base_uri": "https://localhost:8080/"
        },
        "id": "E98zH5BL3A7Z",
        "outputId": "39d28349-ab31-478d-d2a1-a7700664fbf2"
      },
      "outputs": [
        {
          "output_type": "stream",
          "name": "stdout",
          "text": [
            "0.9578639966624948\n"
          ]
        },
        {
          "output_type": "execute_result",
          "data": {
            "text/plain": [
              "array([0.95953275, 0.95075125, 0.94824708, 0.95033389, 0.9490818 ])"
            ]
          },
          "metadata": {},
          "execution_count": 6
        }
      ],
      "source": [
        "from sklearn.naive_bayes import BernoulliNB\n",
        "\n",
        "clf = BernoulliNB()\n",
        "clf.fit(X_train, y_train)\n",
        "print(clf.score(X_test, y_test))\n",
        "scores_multivariate = cross_val_score(clf, twitter_data, twitter_labels, cv=5)\n",
        "scores_multivariate"
      ]
    },
    {
      "cell_type": "markdown",
      "source": [
        "Abbiamo un'accuratezza del 0.95 sul test set"
      ],
      "metadata": {
        "id": "f3QVedqK33LG"
      }
    },
    {
      "cell_type": "markdown",
      "source": [
        "##Ora proviamo con Bernulli Multinomial"
      ],
      "metadata": {
        "id": "jq2CtiIC4Jgb"
      }
    },
    {
      "cell_type": "code",
      "execution_count": 9,
      "metadata": {
        "colab": {
          "base_uri": "https://localhost:8080/"
        },
        "id": "fjj4CoUb3A7a",
        "outputId": "279b39d4-9b10-44c7-c470-944889301466"
      },
      "outputs": [
        {
          "output_type": "stream",
          "name": "stdout",
          "text": [
            "0.9561952440550688\n"
          ]
        },
        {
          "output_type": "execute_result",
          "data": {
            "text/plain": [
              "array([0.95661243, 0.95075125, 0.94323873, 0.94782972, 0.94866444])"
            ]
          },
          "metadata": {},
          "execution_count": 9
        }
      ],
      "source": [
        "from sklearn.naive_bayes import MultinomialNB\n",
        "clf = MultinomialNB()\n",
        "clf.fit(X_train, y_train)\n",
        "print(clf.score(X_test, y_test))\n",
        "scores_multinomial = cross_val_score(clf, twitter_data, twitter_labels, cv=5)\n",
        "scores_multinomial"
      ]
    },
    {
      "cell_type": "markdown",
      "source": [
        "Otteniamo praticamente la stessa accuratezza, ovviamente abbiamo usato la CV per verificare meglio le differenze ma in sostanza nulla di diverso a livello di score"
      ],
      "metadata": {
        "id": "M_ww41x14SG1"
      }
    },
    {
      "cell_type": "markdown",
      "source": [
        "#Parte aggiuntiva: Experiments design and statistical tests on results"
      ],
      "metadata": {
        "id": "OJinqVGT5iGE"
      }
    },
    {
      "cell_type": "markdown",
      "source": [
        "###Estendete l'esercizio n.4 sullo Jupyter Notebook aggiungendo al punto 2 un test statistico per determinare se le differenze osservate siano statisticamente significative tra i classificatori probabilistici sui testi di tipo Multivariato e Multinomiale."
      ],
      "metadata": {
        "id": "fzNbBIae5u9F"
      }
    },
    {
      "cell_type": "code",
      "execution_count": 14,
      "metadata": {
        "colab": {
          "base_uri": "https://localhost:8080/"
        },
        "id": "JHC8-ocx3A7a",
        "outputId": "e9ee7ce3-9768-4630-e595-ba1c0c50b015"
      },
      "outputs": [
        {
          "output_type": "stream",
          "name": "stdout",
          "text": [
            "t_value\n",
            "0.7281234299852103\n",
            "\n",
            "p_value\n",
            "0.487300250839351\n"
          ]
        }
      ],
      "source": [
        "from scipy.stats import ttest_ind\n",
        "t_value, p_value = ttest_ind(scores_multivariate, scores_multinomial)\n",
        "print(\"t_value\")\n",
        "print(t_value)\n",
        "print(\"\\np_value\")\n",
        "print(p_value)\n"
      ]
    },
    {
      "cell_type": "markdown",
      "source": [
        "Il __p_value__ è una probabilità quantifica la probabilità di osservare dei valori assumento l'ipotesi nulla, in sostanza ci dice quanto gli score ottenuti dalle due distribuzioni sono correlate.\n",
        "\n",
        "Il p_value ci dice poco in quanto sono esperimenti indipendenti, quindi guardiamo il t_value\n",
        "\n",
        "Il __t_value__ è rapporto tra la differenza delle due performance e la differenza tra le performance all'interno degli esempi.\n",
        "Maggiore è il valore di t più saranno diversi gli elementi delle distribuzioni, se avessimo per esempoi un t_value = 5 vuol dire che gli elementi dei due gruppi sono 5 volte diversi tra di loro"
      ],
      "metadata": {
        "id": "ei77K4M26bBo"
      }
    },
    {
      "cell_type": "markdown",
      "metadata": {
        "id": "qkrVf83f3A7b"
      },
      "source": [
        "Possiamo osservare che il t-value è basso e pertanto non ci sono differenze sostanziali in termini di performance tra il modello multinomiale e quello multivariato. Ciò lo possiamo osservare considerando anche l'accuratezza media e la deviazione standard ottenuta dai due modelli"
      ]
    },
    {
      "cell_type": "code",
      "execution_count": null,
      "metadata": {
        "id": "Y89Aju-h3A7b",
        "outputId": "439cb52f-e279-4dee-b8ef-b53986dfe642"
      },
      "outputs": [
        {
          "data": {
            "text/plain": [
              "(94.94193144881295, 0.43545669579245355, 95.15893545284418, 0.4070251866845663)"
            ]
          },
          "execution_count": 33,
          "metadata": {},
          "output_type": "execute_result"
        }
      ],
      "source": [
        "np.mean(scores_multinomial)*100, np.std(scores_multinomial)*100, np.mean(scores_multivariate)*100, np.std(scores_multivariate)*100"
      ]
    },
    {
      "cell_type": "markdown",
      "metadata": {
        "id": "TnnB4AWT3A7b"
      },
      "source": [
        "---"
      ]
    }
  ],
  "metadata": {
    "anaconda-cloud": {},
    "colab": {
      "name": "classification_twitter_emotions_loading_data_aa_20_21.ipynb",
      "provenance": []
    },
    "kernelspec": {
      "display_name": "Python 3",
      "language": "python",
      "name": "python3"
    },
    "language_info": {
      "codemirror_mode": {
        "name": "ipython",
        "version": 3
      },
      "file_extension": ".py",
      "mimetype": "text/x-python",
      "name": "python",
      "nbconvert_exporter": "python",
      "pygments_lexer": "ipython3",
      "version": "3.8.5"
    }
  },
  "nbformat": 4,
  "nbformat_minor": 0
}